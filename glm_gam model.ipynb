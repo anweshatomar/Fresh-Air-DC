{
 "cells": [
  {
   "cell_type": "markdown",
   "metadata": {},
   "source": [
    "# Fresh Air DC- GAM and GLM models:\n",
    "    - Jordan Frengut and  Anwesha Tomar"
   ]
  },
  {
   "cell_type": "markdown",
   "metadata": {},
   "source": [
    "## Importing libraries:"
   ]
  },
  {
   "cell_type": "code",
   "execution_count": 37,
   "metadata": {},
   "outputs": [],
   "source": [
    "import pandas as pd \n",
    "import numpy as np \n",
    "urad= pd.read_csv(\"urad_csv_final.csv\")\n",
    "doee=pd.read_csv(\"doee_csv_final.csv\")"
   ]
  },
  {
   "cell_type": "markdown",
   "metadata": {},
   "source": [
    "## Exploring the dataset:"
   ]
  },
  {
   "cell_type": "code",
   "execution_count": 38,
   "metadata": {},
   "outputs": [
    {
     "data": {
      "text/plain": [
       "uRAD_id                          1040\n",
       "Time_Str_Hour                    1040\n",
       "AVG(Particulate_Matter_PM1)      1040\n",
       "Particulate_Matter_PM25          1040\n",
       "AVG(Particulate_Matter_PM10)     1040\n",
       "AVG(Ozone_O3_ppm)                1040\n",
       "AVG(Nitrogen_Dioxide_NO2_ppm)    1040\n",
       "AVG(Sulfer_Dioxide_SO2_ppm)      1040\n",
       "AVG(Carbon_Monoxide_CO_ppm)      1040\n",
       "AVG(VOC_AQI)                      362\n",
       "AVG(Temperature)                 1040\n",
       "AVG(Pressure)                    1040\n",
       "AVG(Humidity)                    1040\n",
       "AVG(Noise)                       1040\n",
       "dtype: int64"
      ]
     },
     "execution_count": 38,
     "metadata": {},
     "output_type": "execute_result"
    }
   ],
   "source": [
    "urad.count()"
   ]
  },
  {
   "cell_type": "code",
   "execution_count": 39,
   "metadata": {},
   "outputs": [
    {
     "data": {
      "text/plain": [
       "Value            3966\n",
       "Time_Str_Hour    3966\n",
       "dtype: int64"
      ]
     },
     "execution_count": 39,
     "metadata": {},
     "output_type": "execute_result"
    }
   ],
   "source": [
    "doee.count()"
   ]
  },
  {
   "cell_type": "code",
   "execution_count": 40,
   "metadata": {},
   "outputs": [],
   "source": [
    "newurad=urad.drop(['Time_Str_Hour','Particulate_Matter_PM25','uRAD_id'], axis=1)"
   ]
  },
  {
   "cell_type": "markdown",
   "metadata": {},
   "source": [
    "## Standardizing the data:"
   ]
  },
  {
   "cell_type": "code",
   "execution_count": 41,
   "metadata": {},
   "outputs": [],
   "source": [
    "from sklearn.preprocessing import StandardScaler\n",
    "\n",
    "# The StandardScaler\n",
    "ss = StandardScaler()\n",
    "\n",
    "# Standardize the training data\n",
    "newurad = ss.fit_transform(newurad)\n"
   ]
  },
  {
   "cell_type": "code",
   "execution_count": 42,
   "metadata": {},
   "outputs": [],
   "source": [
    "urad_conv = pd.DataFrame(data=newurad,columns=['Particulate_Matter_PM1','Particulate_Matter_PM10','Ozone_O3_ppm','Nitrogen_Dioxide_NO2_ppm','Sulfer_Dioxide_SO2_ppm','Carbon_Monoxide_CO_ppm','VOC_AQI','Temperature','Pressure','Humidity','Noise'])"
   ]
  },
  {
   "cell_type": "markdown",
   "metadata": {},
   "source": [
    "## Concating the data:"
   ]
  },
  {
   "cell_type": "code",
   "execution_count": 43,
   "metadata": {},
   "outputs": [
    {
     "name": "stdout",
     "output_type": "stream",
     "text": [
      "Time_Str_Hour               1040\n",
      "Particulate_Matter_PM25     1040\n",
      "Particulate_Matter_PM1      1040\n",
      "Particulate_Matter_PM10     1040\n",
      "Ozone_O3_ppm                1040\n",
      "Nitrogen_Dioxide_NO2_ppm    1040\n",
      "Sulfer_Dioxide_SO2_ppm      1040\n",
      "Carbon_Monoxide_CO_ppm      1040\n",
      "VOC_AQI                      362\n",
      "Temperature                 1040\n",
      "Pressure                    1040\n",
      "Humidity                    1040\n",
      "Noise                       1040\n",
      "dtype: int64\n"
     ]
    }
   ],
   "source": [
    "date=urad['Time_Str_Hour']\n",
    "pm25=urad['Particulate_Matter_PM25']\n",
    "final_urad = pd.concat([date, pm25,urad_conv], axis=1)\n",
    "print(final_urad.count())"
   ]
  },
  {
   "cell_type": "markdown",
   "metadata": {},
   "source": [
    "## Merging data to generate final data format:"
   ]
  },
  {
   "cell_type": "code",
   "execution_count": 44,
   "metadata": {},
   "outputs": [],
   "source": [
    "final_data=pd.merge(final_urad, doee, how='inner', on='Time_Str_Hour')"
   ]
  },
  {
   "cell_type": "code",
   "execution_count": 45,
   "metadata": {},
   "outputs": [
    {
     "data": {
      "text/plain": [
       "Time_Str_Hour               652\n",
       "Particulate_Matter_PM25     652\n",
       "Particulate_Matter_PM1      652\n",
       "Particulate_Matter_PM10     652\n",
       "Ozone_O3_ppm                652\n",
       "Nitrogen_Dioxide_NO2_ppm    652\n",
       "Sulfer_Dioxide_SO2_ppm      652\n",
       "Carbon_Monoxide_CO_ppm      652\n",
       "VOC_AQI                     339\n",
       "Temperature                 652\n",
       "Pressure                    652\n",
       "Humidity                    652\n",
       "Noise                       652\n",
       "Value                       652\n",
       "dtype: int64"
      ]
     },
     "execution_count": 45,
     "metadata": {},
     "output_type": "execute_result"
    }
   ],
   "source": [
    "final_data.count()"
   ]
  },
  {
   "cell_type": "markdown",
   "metadata": {},
   "source": [
    "## Generalized Linear Model:"
   ]
  },
  {
   "cell_type": "code",
   "execution_count": 46,
   "metadata": {},
   "outputs": [],
   "source": [
    "#https://www.statsmodels.org/stable/generated/statsmodels.genmod.generalized_linear_model.GLMResults.html"
   ]
  },
  {
   "cell_type": "code",
   "execution_count": 47,
   "metadata": {},
   "outputs": [
    {
     "name": "stdout",
     "output_type": "stream",
     "text": [
      "                 Generalized Linear Model Regression Results                  \n",
      "==============================================================================\n",
      "Dep. Variable:                  Value   No. Observations:                  652\n",
      "Model:                            GLM   Df Residuals:                      647\n",
      "Model Family:                Gaussian   Df Model:                            4\n",
      "Link Function:               identity   Scale:                          9.2089\n",
      "Method:                          IRLS   Log-Likelihood:                -1646.4\n",
      "Date:                Tue, 28 Apr 2020   Deviance:                       5958.1\n",
      "Time:                        16:31:36   Pearson chi2:                 5.96e+03\n",
      "No. Iterations:                     3                                         \n",
      "Covariance Type:            nonrobust                                         \n",
      "===========================================================================================\n",
      "                              coef    std err          z      P>|z|      [0.025      0.975]\n",
      "-------------------------------------------------------------------------------------------\n",
      "Intercept                   3.0589      0.197     15.506      0.000       2.672       3.446\n",
      "Particulate_Matter_PM25     0.4823      0.017     28.961      0.000       0.450       0.515\n",
      "Temperature                 1.0178      0.129      7.918      0.000       0.766       1.270\n",
      "Pressure                    1.1716      0.138      8.476      0.000       0.901       1.443\n",
      "Humidity                   -0.3041      0.143     -2.124      0.034      -0.585      -0.023\n",
      "===========================================================================================\n"
     ]
    }
   ],
   "source": [
    "#GLM\n",
    "import statsmodels.api as sm\n",
    "from statsmodels.formula.api import ols\n",
    "mod = sm.GLM.from_formula(formula='Value ~ Particulate_Matter_PM25 + Temperature + Pressure + Humidity' , data=final_data)\n",
    "#fitting the data\n",
    "res = mod.fit()\n",
    "print(res.summary())"
   ]
  },
  {
   "cell_type": "markdown",
   "metadata": {},
   "source": [
    "##### Exploring different variables of the model:"
   ]
  },
  {
   "cell_type": "code",
   "execution_count": 48,
   "metadata": {},
   "outputs": [
    {
     "data": {
      "text/plain": [
       "3302.8265308204955"
      ]
     },
     "execution_count": 48,
     "metadata": {},
     "output_type": "execute_result"
    }
   ],
   "source": [
    "#Akaike Information Criterion\n",
    "res.aic"
   ]
  },
  {
   "cell_type": "code",
   "execution_count": 49,
   "metadata": {},
   "outputs": [
    {
     "data": {
      "text/plain": [
       "1765.5589414924643"
      ]
     },
     "execution_count": 49,
     "metadata": {},
     "output_type": "execute_result"
    }
   ],
   "source": [
    "#Bayes Information Criterion deviance\n",
    "res.bic"
   ]
  },
  {
   "cell_type": "code",
   "execution_count": 50,
   "metadata": {},
   "outputs": [
    {
     "data": {
      "text/plain": [
       "5958.147773059009"
      ]
     },
     "execution_count": 50,
     "metadata": {},
     "output_type": "execute_result"
    }
   ],
   "source": [
    "#distribution-specific deviance functions\n",
    "res.deviance"
   ]
  },
  {
   "cell_type": "code",
   "execution_count": 51,
   "metadata": {},
   "outputs": [
    {
     "data": {
      "text/plain": [
       "Intercept                   3.174996e-54\n",
       "Particulate_Matter_PM25    2.020664e-184\n",
       "Temperature                 2.413606e-15\n",
       "Pressure                    2.335582e-17\n",
       "Humidity                    3.369243e-02\n",
       "dtype: float64"
      ]
     },
     "execution_count": 51,
     "metadata": {},
     "output_type": "execute_result"
    }
   ],
   "source": [
    "#The two-tailed p values for the t-stats of the params\n",
    "res.pvalues"
   ]
  },
  {
   "cell_type": "code",
   "execution_count": 52,
   "metadata": {},
   "outputs": [
    {
     "data": {
      "text/plain": [
       "Intercept                  15.505688\n",
       "Particulate_Matter_PM25    28.961329\n",
       "Temperature                 7.918000\n",
       "Pressure                    8.475756\n",
       "Humidity                   -2.123734\n",
       "dtype: float64"
      ]
     },
     "execution_count": 52,
     "metadata": {},
     "output_type": "execute_result"
    }
   ],
   "source": [
    "#Return the t-statistic for a given parameter estimate\n",
    "res.tvalues"
   ]
  },
  {
   "cell_type": "code",
   "execution_count": 53,
   "metadata": {},
   "outputs": [
    {
     "data": {
      "text/html": [
       "<table class=\"simpletable\">\n",
       "<tr>\n",
       "        <td>Model:</td>               <td>GLM</td>            <td>AIC:</td>       <td>3302.8265</td>\n",
       "</tr>\n",
       "<tr>\n",
       "    <td>Link Function:</td>        <td>identity</td>          <td>BIC:</td>       <td>1765.5589</td>\n",
       "</tr>\n",
       "<tr>\n",
       "  <td>Dependent Variable:</td>       <td>Value</td>      <td>Log-Likelihood:</td>  <td>-1646.4</td> \n",
       "</tr>\n",
       "<tr>\n",
       "         <td>Date:</td>        <td>2020-04-28 16:31</td>    <td>LL-Null:</td>      <td>-2209.5</td> \n",
       "</tr>\n",
       "<tr>\n",
       "   <td>No. Observations:</td>         <td>652</td>          <td>Deviance:</td>     <td>5958.1</td>  \n",
       "</tr>\n",
       "<tr>\n",
       "       <td>Df Model:</td>              <td>4</td>         <td>Pearson chi2:</td>  <td>5.96e+03</td> \n",
       "</tr>\n",
       "<tr>\n",
       "     <td>Df Residuals:</td>           <td>647</td>           <td>Scale:</td>       <td>9.2089</td>  \n",
       "</tr>\n",
       "<tr>\n",
       "        <td>Method:</td>             <td>IRLS</td>              <td></td>             <td></td>     \n",
       "</tr>\n",
       "</table>\n",
       "<table class=\"simpletable\">\n",
       "<tr>\n",
       "             <td></td>              <th>Coef.</th>  <th>Std.Err.</th>    <th>z</th>     <th>P>|z|</th> <th>[0.025</th>  <th>0.975]</th> \n",
       "</tr>\n",
       "<tr>\n",
       "  <th>Intercept</th>               <td>3.0589</td>   <td>0.1973</td>  <td>15.5057</td> <td>0.0000</td> <td>2.6723</td>  <td>3.4456</td> \n",
       "</tr>\n",
       "<tr>\n",
       "  <th>Particulate_Matter_PM25</th> <td>0.4823</td>   <td>0.0167</td>  <td>28.9613</td> <td>0.0000</td> <td>0.4497</td>  <td>0.5150</td> \n",
       "</tr>\n",
       "<tr>\n",
       "  <th>Temperature</th>             <td>1.0178</td>   <td>0.1285</td>  <td>7.9180</td>  <td>0.0000</td> <td>0.7659</td>  <td>1.2698</td> \n",
       "</tr>\n",
       "<tr>\n",
       "  <th>Pressure</th>                <td>1.1716</td>   <td>0.1382</td>  <td>8.4758</td>  <td>0.0000</td> <td>0.9007</td>  <td>1.4425</td> \n",
       "</tr>\n",
       "<tr>\n",
       "  <th>Humidity</th>                <td>-0.3041</td>  <td>0.1432</td>  <td>-2.1237</td> <td>0.0337</td> <td>-0.5847</td> <td>-0.0235</td>\n",
       "</tr>\n",
       "</table>"
      ],
      "text/plain": [
       "<class 'statsmodels.iolib.summary2.Summary'>\n",
       "\"\"\"\n",
       "                   Results: Generalized linear model\n",
       "=======================================================================\n",
       "Model:                 GLM                 AIC:               3302.8265\n",
       "Link Function:         identity            BIC:               1765.5589\n",
       "Dependent Variable:    Value               Log-Likelihood:    -1646.4  \n",
       "Date:                  2020-04-28 16:31    LL-Null:           -2209.5  \n",
       "No. Observations:      652                 Deviance:          5958.1   \n",
       "Df Model:              4                   Pearson chi2:      5.96e+03 \n",
       "Df Residuals:          647                 Scale:             9.2089   \n",
       "Method:                IRLS                                            \n",
       "-----------------------------------------------------------------------\n",
       "                         Coef.  Std.Err.    z    P>|z|   [0.025  0.975]\n",
       "-----------------------------------------------------------------------\n",
       "Intercept                3.0589   0.1973 15.5057 0.0000  2.6723  3.4456\n",
       "Particulate_Matter_PM25  0.4823   0.0167 28.9613 0.0000  0.4497  0.5150\n",
       "Temperature              1.0178   0.1285  7.9180 0.0000  0.7659  1.2698\n",
       "Pressure                 1.1716   0.1382  8.4758 0.0000  0.9007  1.4425\n",
       "Humidity                -0.3041   0.1432 -2.1237 0.0337 -0.5847 -0.0235\n",
       "=======================================================================\n",
       "\n",
       "\"\"\""
      ]
     },
     "execution_count": 53,
     "metadata": {},
     "output_type": "execute_result"
    }
   ],
   "source": [
    "#experimental summary statistics\n",
    "res.summary2()"
   ]
  },
  {
   "cell_type": "markdown",
   "metadata": {},
   "source": [
    "## I believe we can manually calculate pseudo R^2 value:\n",
    "https://stackoverflow.com/questions/50681946/null-deviance-statsmodels-glm-python-pseudo-r2"
   ]
  },
  {
   "cell_type": "code",
   "execution_count": 54,
   "metadata": {},
   "outputs": [],
   "source": [
    "#goodness of fir\n",
    "resid_deviance= res.resid_deviance\n",
    "null_deviance=res.null_deviance\n",
    "gof=1 - (resid_deviance/null_deviance)"
   ]
  },
  {
   "cell_type": "code",
   "execution_count": 55,
   "metadata": {},
   "outputs": [
    {
     "data": {
      "text/plain": [
       "0.9999999999999994"
      ]
     },
     "execution_count": 55,
     "metadata": {},
     "output_type": "execute_result"
    }
   ],
   "source": [
    "#mean was calculated since we have get multiple values as an output\n",
    "# I am unsure of this approach\n",
    "np.mean(gof)"
   ]
  },
  {
   "cell_type": "markdown",
   "metadata": {},
   "source": [
    "## R^2 for GLM:"
   ]
  },
  {
   "cell_type": "markdown",
   "metadata": {},
   "source": [
    "###### https://rcompanion.org/handbook/G_10.html\n",
    "##### This is a small piece of text from the article that I have linked above:\n",
    "\n",
    "\n",
    "###### This artcile is for R and not python:\n",
    "\n",
    "Importantly, the summary of the glm function does not produce a p-value for the model nor an R-squared for the model. \n",
    "\n",
    "There is no R-squared defined for a glm model.  Instead a pseudo R-squared can be calculated.  The function nagelkerke produces pseudo R-squared values for a variety of models.  It reports three types:  McFadden, Cox and Snell, and Nagelkerke.  In general I recommend using the Nagelkerke measure, though there is no agreement on which pseudo R-squared measurement to use, if any at all.\n",
    "\n",
    "\n",
    "##### Maybe the best approach would be to try this model in R."
   ]
  },
  {
   "cell_type": "markdown",
   "metadata": {},
   "source": [
    "https://github.com/statsmodels/statsmodels/issues/5861\n",
    "\n",
    "##### A piece from a github issue:\n",
    "##### I don't think for now we can calculate R^2 in python for GLM\n",
    "\n",
    "There is no R^2 outside of linear regression, but there are many \"pseudo R^2\" values that people commonly use to compare GLM's. Many of these can be easily computed from the log-likelihood function, which statsmodels provides as llf. A lot of discussion about this can be found on-line, below is one good reference:\n",
    "\n",
    "https://statisticalhorizons.com/r2logistic"
   ]
  },
  {
   "cell_type": "code",
   "execution_count": 11,
   "metadata": {},
   "outputs": [
    {
     "name": "stdout",
     "output_type": "stream",
     "text": [
      "                 Generalized Linear Model Regression Results                  \n",
      "==============================================================================\n",
      "Dep. Variable:                  Value   No. Observations:                  652\n",
      "Model:                            GLM   Df Residuals:                      647\n",
      "Model Family:                   Gamma   Df Model:                            4\n",
      "Link Function:          inverse_power   Scale:                         0.30213\n",
      "Method:                          IRLS   Log-Likelihood:                    inf\n",
      "Date:                Tue, 28 Apr 2020   Deviance:                       1572.2\n",
      "Time:                        14:59:31   Pearson chi2:                     195.\n",
      "No. Iterations:                    10                                         \n",
      "Covariance Type:            nonrobust                                         \n",
      "===========================================================================================\n",
      "                              coef    std err          z      P>|z|      [0.025      0.975]\n",
      "-------------------------------------------------------------------------------------------\n",
      "Intercept                   0.2281      0.005     43.914      0.000       0.218       0.238\n",
      "Particulate_Matter_PM25    -0.0064      0.000    -38.171      0.000      -0.007      -0.006\n",
      "Temperature                -0.0240      0.003     -8.881      0.000      -0.029      -0.019\n",
      "Pressure                   -0.0379      0.003    -14.769      0.000      -0.043      -0.033\n",
      "Humidity                   -0.0110      0.003     -3.985      0.000      -0.016      -0.006\n",
      "===========================================================================================\n"
     ]
    },
    {
     "name": "stderr",
     "output_type": "stream",
     "text": [
      "C:\\Users\\user\\Anaconda3\\lib\\site-packages\\statsmodels\\genmod\\generalized_linear_model.py:273: DomainWarning: The inverse_power link function does not respect the domain of the Gamma family.\n",
      "  DomainWarning)\n",
      "C:\\Users\\user\\Anaconda3\\lib\\site-packages\\statsmodels\\genmod\\families\\family.py:735: RuntimeWarning: divide by zero encountered in log\n",
      "  ll_obs -= special.gammaln(weight_scale) + np.log(endog)\n"
     ]
    }
   ],
   "source": [
    "#GLM\n",
    "import statsmodels.api as sm\n",
    "from statsmodels.formula.api import ols\n",
    "mod = sm.GLM.from_formula(formula='Value ~ Particulate_Matter_PM25 + Temperature + Pressure + Humidity' , data=final_data, family=sm.families.Gamma())\n",
    "#fitting the data\n",
    "res = mod.fit()\n",
    "print(res.summary())"
   ]
  },
  {
   "cell_type": "code",
   "execution_count": 12,
   "metadata": {},
   "outputs": [
    {
     "name": "stdout",
     "output_type": "stream",
     "text": [
      "                 Generalized Linear Model Regression Results                  \n",
      "==============================================================================\n",
      "Dep. Variable:                  Value   No. Observations:                  652\n",
      "Model:                            GLM   Df Residuals:                      647\n",
      "Model Family:                Binomial   Df Model:                            4\n",
      "Link Function:                  logit   Scale:                          1.0000\n",
      "Method:                          IRLS   Log-Likelihood:                    nan\n",
      "Date:                Tue, 28 Apr 2020   Deviance:                          nan\n",
      "Time:                        14:59:32   Pearson chi2:                 1.88e+20\n",
      "No. Iterations:                   100                                         \n",
      "Covariance Type:            nonrobust                                         \n",
      "===========================================================================================\n",
      "                              coef    std err          z      P>|z|      [0.025      0.975]\n",
      "-------------------------------------------------------------------------------------------\n",
      "Intercept                9.111e+17   4.36e+06   2.09e+11      0.000    9.11e+17    9.11e+17\n",
      "Particulate_Matter_PM25  2.127e+17   3.68e+05   5.78e+11      0.000    2.13e+17    2.13e+17\n",
      "Temperature              4.488e+17   2.84e+06   1.58e+11      0.000    4.49e+17    4.49e+17\n",
      "Pressure                 5.121e+17   3.06e+06   1.68e+11      0.000    5.12e+17    5.12e+17\n",
      "Humidity                -1.329e+17   3.17e+06   -4.2e+10      0.000   -1.33e+17   -1.33e+17\n",
      "===========================================================================================\n"
     ]
    },
    {
     "name": "stderr",
     "output_type": "stream",
     "text": [
      "C:\\Users\\user\\Anaconda3\\lib\\site-packages\\statsmodels\\genmod\\families\\links.py:190: RuntimeWarning: overflow encountered in exp\n",
      "  t = np.exp(-z)\n",
      "C:\\Users\\user\\Anaconda3\\lib\\site-packages\\statsmodels\\genmod\\families\\family.py:889: RuntimeWarning: divide by zero encountered in true_divide\n",
      "  endog_mu = self._clean(endog / mu)\n",
      "C:\\Users\\user\\Anaconda3\\lib\\site-packages\\statsmodels\\genmod\\families\\family.py:889: RuntimeWarning: invalid value encountered in true_divide\n",
      "  endog_mu = self._clean(endog / mu)\n",
      "C:\\Users\\user\\Anaconda3\\lib\\site-packages\\statsmodels\\genmod\\families\\family.py:890: RuntimeWarning: divide by zero encountered in true_divide\n",
      "  n_endog_mu = self._clean((1. - endog) / (1. - mu))\n",
      "C:\\Users\\user\\Anaconda3\\lib\\site-packages\\statsmodels\\genmod\\families\\family.py:890: RuntimeWarning: invalid value encountered in true_divide\n",
      "  n_endog_mu = self._clean((1. - endog) / (1. - mu))\n",
      "C:\\Users\\user\\Anaconda3\\lib\\site-packages\\statsmodels\\genmod\\families\\family.py:942: RuntimeWarning: divide by zero encountered in true_divide\n",
      "  special.gammaln(n - y + 1) + y * np.log(mu / (1 - mu)) +\n",
      "C:\\Users\\user\\Anaconda3\\lib\\site-packages\\statsmodels\\genmod\\families\\family.py:942: RuntimeWarning: divide by zero encountered in log\n",
      "  special.gammaln(n - y + 1) + y * np.log(mu / (1 - mu)) +\n",
      "C:\\Users\\user\\Anaconda3\\lib\\site-packages\\statsmodels\\genmod\\families\\family.py:942: RuntimeWarning: invalid value encountered in multiply\n",
      "  special.gammaln(n - y + 1) + y * np.log(mu / (1 - mu)) +\n",
      "C:\\Users\\user\\Anaconda3\\lib\\site-packages\\statsmodels\\genmod\\families\\family.py:942: RuntimeWarning: invalid value encountered in add\n",
      "  special.gammaln(n - y + 1) + y * np.log(mu / (1 - mu)) +\n",
      "C:\\Users\\user\\Anaconda3\\lib\\site-packages\\statsmodels\\genmod\\families\\family.py:943: RuntimeWarning: divide by zero encountered in log\n",
      "  n * np.log(1 - mu)) * var_weights\n",
      "C:\\Users\\user\\Anaconda3\\lib\\site-packages\\statsmodels\\genmod\\families\\family.py:943: RuntimeWarning: invalid value encountered in add\n",
      "  n * np.log(1 - mu)) * var_weights\n"
     ]
    }
   ],
   "source": [
    "#GLM\n",
    "import statsmodels.api as sm\n",
    "from statsmodels.formula.api import ols\n",
    "mod = sm.GLM.from_formula(formula='Value ~ Particulate_Matter_PM25 + Temperature + Pressure + Humidity' , data=final_data, family=sm.families.Binomial())\n",
    "#fitting the data\n",
    "res = mod.fit()\n",
    "print(res.summary())"
   ]
  },
  {
   "cell_type": "code",
   "execution_count": 13,
   "metadata": {},
   "outputs": [
    {
     "name": "stdout",
     "output_type": "stream",
     "text": [
      "                 Generalized Linear Model Regression Results                  \n",
      "==============================================================================\n",
      "Dep. Variable:                  Value   No. Observations:                  652\n",
      "Model:                            GLM   Df Residuals:                      647\n",
      "Model Family:                Gaussian   Df Model:                            4\n",
      "Link Function:               identity   Scale:                          9.2089\n",
      "Method:                          IRLS   Log-Likelihood:                -1646.4\n",
      "Date:                Tue, 28 Apr 2020   Deviance:                       5958.1\n",
      "Time:                        14:59:33   Pearson chi2:                 5.96e+03\n",
      "No. Iterations:                     3                                         \n",
      "Covariance Type:            nonrobust                                         \n",
      "===========================================================================================\n",
      "                              coef    std err          z      P>|z|      [0.025      0.975]\n",
      "-------------------------------------------------------------------------------------------\n",
      "Intercept                   3.0589      0.197     15.506      0.000       2.672       3.446\n",
      "Particulate_Matter_PM25     0.4823      0.017     28.961      0.000       0.450       0.515\n",
      "Temperature                 1.0178      0.129      7.918      0.000       0.766       1.270\n",
      "Pressure                    1.1716      0.138      8.476      0.000       0.901       1.443\n",
      "Humidity                   -0.3041      0.143     -2.124      0.034      -0.585      -0.023\n",
      "===========================================================================================\n"
     ]
    }
   ],
   "source": [
    "#GLM\n",
    "import statsmodels.api as sm\n",
    "from statsmodels.formula.api import ols\n",
    "mod = sm.GLM.from_formula(formula='Value ~ Particulate_Matter_PM25 + Temperature + Pressure + Humidity' , data=final_data, family=sm.families.Gaussian())\n",
    "#fitting the data\n",
    "res = mod.fit()\n",
    "print(res.summary())"
   ]
  },
  {
   "cell_type": "code",
   "execution_count": 15,
   "metadata": {},
   "outputs": [
    {
     "name": "stdout",
     "output_type": "stream",
     "text": [
      "                 Generalized Linear Model Regression Results                  \n",
      "==============================================================================\n",
      "Dep. Variable:                  Value   No. Observations:                  652\n",
      "Model:                            GLM   Df Residuals:                      647\n",
      "Model Family:        NegativeBinomial   Df Model:                            4\n",
      "Link Function:                    log   Scale:                          1.0000\n",
      "Method:                          IRLS   Log-Likelihood:                -1911.9\n",
      "Date:                Tue, 28 Apr 2020   Deviance:                       165.54\n",
      "Time:                        14:59:35   Pearson chi2:                     128.\n",
      "No. Iterations:                     7                                         \n",
      "Covariance Type:            nonrobust                                         \n",
      "===========================================================================================\n",
      "                              coef    std err          z      P>|z|      [0.025      0.975]\n",
      "-------------------------------------------------------------------------------------------\n",
      "Intercept                   1.3398      0.071     18.978      0.000       1.201       1.478\n",
      "Particulate_Matter_PM25     0.0590      0.006     10.213      0.000       0.048       0.070\n",
      "Temperature                 0.1695      0.046      3.702      0.000       0.080       0.259\n",
      "Pressure                    0.1995      0.050      4.012      0.000       0.102       0.297\n",
      "Humidity                   -0.0286      0.051     -0.557      0.578      -0.129       0.072\n",
      "===========================================================================================\n"
     ]
    }
   ],
   "source": [
    "#GLM\n",
    "import statsmodels.api as sm\n",
    "from statsmodels.formula.api import ols\n",
    "mod = sm.GLM.from_formula(formula='Value ~ Particulate_Matter_PM25 + Temperature + Pressure + Humidity' , data=final_data, family=sm.families.NegativeBinomial())\n",
    "#fitting the data\n",
    "res = mod.fit()\n",
    "print(res.summary())"
   ]
  },
  {
   "cell_type": "code",
   "execution_count": 16,
   "metadata": {},
   "outputs": [
    {
     "name": "stdout",
     "output_type": "stream",
     "text": [
      "                 Generalized Linear Model Regression Results                  \n",
      "==============================================================================\n",
      "Dep. Variable:                  Value   No. Observations:                  652\n",
      "Model:                            GLM   Df Residuals:                      647\n",
      "Model Family:                 Poisson   Df Model:                            4\n",
      "Link Function:                    log   Scale:                          1.0000\n",
      "Method:                          IRLS   Log-Likelihood:                -1624.1\n",
      "Date:                Tue, 28 Apr 2020   Deviance:                       925.66\n",
      "Time:                        14:59:37   Pearson chi2:                     880.\n",
      "No. Iterations:                     5                                         \n",
      "Covariance Type:            nonrobust                                         \n",
      "===========================================================================================\n",
      "                              coef    std err          z      P>|z|      [0.025      0.975]\n",
      "-------------------------------------------------------------------------------------------\n",
      "Intercept                   1.4312      0.025     56.437      0.000       1.382       1.481\n",
      "Particulate_Matter_PM25     0.0501      0.002     31.563      0.000       0.047       0.053\n",
      "Temperature                 0.1548      0.016      9.588      0.000       0.123       0.186\n",
      "Pressure                    0.2318      0.018     12.911      0.000       0.197       0.267\n",
      "Humidity                    0.0060      0.018      0.327      0.743      -0.030       0.042\n",
      "===========================================================================================\n"
     ]
    }
   ],
   "source": [
    "#GLM\n",
    "import statsmodels.api as sm\n",
    "from statsmodels.formula.api import ols\n",
    "mod = sm.GLM.from_formula(formula='Value ~ Particulate_Matter_PM25 + Temperature + Pressure + Humidity' , data=final_data, family=sm.families.Poisson())\n",
    "#fitting the data\n",
    "res = mod.fit()\n",
    "print(res.summary())"
   ]
  },
  {
   "cell_type": "markdown",
   "metadata": {},
   "source": [
    "## Generalized Additive Model:"
   ]
  },
  {
   "cell_type": "markdown",
   "metadata": {},
   "source": [
    "### Fitting data without spline penalties:"
   ]
  },
  {
   "cell_type": "code",
   "execution_count": 56,
   "metadata": {},
   "outputs": [
    {
     "name": "stdout",
     "output_type": "stream",
     "text": [
      "LinearGAM                                                                                                 \n",
      "=============================================== ==========================================================\n",
      "Distribution:                        NormalDist Effective DoF:                                     46.9654\n",
      "Link Function:                     IdentityLink Log Likelihood:                                 -1994.1206\n",
      "Number of Samples:                          652 AIC:                                             4084.1721\n",
      "                                                AICc:                                            4091.9616\n",
      "                                                GCV:                                                9.2027\n",
      "                                                Scale:                                              8.0178\n",
      "                                                Pseudo R-Squared:                                   0.7029\n",
      "==========================================================================================================\n",
      "Feature Function                  Lambda               Rank         EDoF         P > x        Sig. Code   \n",
      "================================= ==================== ============ ============ ============ ============\n",
      "s(0)                              [0.6]                20           12.6         1.11e-16     ***         \n",
      "s(1)                              [0.6]                20           12.1         1.50e-14     ***         \n",
      "s(2)                              [0.6]                20           10.9         8.10e-08     ***         \n",
      "s(3)                              [0.6]                20           11.4         1.89e-07     ***         \n",
      "intercept                                              1            0.0          1.11e-16     ***         \n",
      "==========================================================================================================\n",
      "Significance codes:  0 '***' 0.001 '**' 0.01 '*' 0.05 '.' 0.1 ' ' 1\n",
      "\n",
      "WARNING: Fitting splines and a linear function to a feature introduces a model identifiability problem\n",
      "         which can cause p-values to appear significant when they are not.\n",
      "\n",
      "WARNING: p-values calculated in this manner behave correctly for un-penalized models or models with\n",
      "         known smoothing parameters, but when smoothing parameters have been estimated, the p-values\n",
      "         are typically lower than they should be, meaning that the tests reject the null too readily.\n"
     ]
    },
    {
     "name": "stderr",
     "output_type": "stream",
     "text": [
      "C:\\Users\\user\\Anaconda3\\lib\\site-packages\\ipykernel_launcher.py:7: UserWarning: KNOWN BUG: p-values computed in this summary are likely much smaller than they should be. \n",
      " \n",
      "Please do not make inferences based on these values! \n",
      "\n",
      "Collaborate on a solution, and stay up to date at: \n",
      "github.com/dswah/pyGAM/issues/163 \n",
      "\n",
      "  import sys\n"
     ]
    }
   ],
   "source": [
    "#GAM\n",
    "from pygam import LinearGAM,s,f,l\n",
    "X=final_data[['Particulate_Matter_PM25','Temperature', 'Pressure' , 'Humidity']]\n",
    "y=pd.Series(final_data['Value'])\n",
    "#fitting the data\n",
    "gammodel1 = LinearGAM(s(0) + s(1)+s(2)+s(3)).fit(X, y)\n",
    "gammodel1.summary()"
   ]
  },
  {
   "cell_type": "markdown",
   "metadata": {},
   "source": [
    "### Plotting partial dependence:"
   ]
  },
  {
   "cell_type": "code",
   "execution_count": 57,
   "metadata": {},
   "outputs": [
    {
     "data": {
      "text/plain": [
       "<Figure size 432x288 with 0 Axes>"
      ]
     },
     "metadata": {},
     "output_type": "display_data"
    },
    {
     "data": {
      "image/png": "[encoded data removed]",
      "text/plain": [
       "<Figure size 432x288 with 4 Axes>"
      ]
     },
     "metadata": {
      "needs_background": "light"
     },
     "output_type": "display_data"
    }
   ],
   "source": [
    "import matplotlib.pyplot as plt\n",
    "plt.figure();\n",
    "fig, axs = plt.subplots(1,4);\n",
    "\n",
    "titles = ['PM25','Temperature', 'Pressure', 'Humidity']\n",
    "for i, ax in enumerate(axs):\n",
    "    XX = gammodel1.generate_X_grid(term=i)\n",
    "    ax.plot(XX[:, i], gammodel1.partial_dependence(term=i, X=XX))\n",
    "    ax.plot(XX[:, i], gammodel1.partial_dependence(term=i, X=XX, width=.95)[1], c='r', ls='--')\n",
    "    if i == 0:\n",
    "        ax.set_ylim(-100,100)\n",
    "    ax.set_title(titles[i]);"
   ]
  },
  {
   "cell_type": "markdown",
   "metadata": {},
   "source": [
    "### Using Grid Search CV to find the accurate GCV for the analysis:"
   ]
  },
  {
   "cell_type": "code",
   "execution_count": 58,
   "metadata": {},
   "outputs": [
    {
     "name": "stderr",
     "output_type": "stream",
     "text": [
      "100% (11 of 11) |########################| Elapsed Time: 0:00:00 Time:  0:00:00\n"
     ]
    },
    {
     "name": "stdout",
     "output_type": "stream",
     "text": [
      "LinearGAM                                                                                                 \n",
      "=============================================== ==========================================================\n",
      "Distribution:                        NormalDist Effective DoF:                                     19.0671\n",
      "Link Function:                     IdentityLink Log Likelihood:                                 -2011.7534\n",
      "Number of Samples:                          652 AIC:                                              4063.641\n",
      "                                                AICc:                                            4064.9811\n",
      "                                                GCV:                                                8.6842\n",
      "                                                Scale:                                              8.2283\n",
      "                                                Pseudo R-Squared:                                   0.6811\n",
      "==========================================================================================================\n",
      "Feature Function                  Lambda               Rank         EDoF         P > x        Sig. Code   \n",
      "================================= ==================== ============ ============ ============ ============\n",
      "s(0)                              [63.0957]            20           5.7          1.11e-16     ***         \n",
      "s(1)                              [63.0957]            20           5.0          1.11e-16     ***         \n",
      "s(2)                              [63.0957]            20           4.3          3.24e-09     ***         \n",
      "s(3)                              [63.0957]            20           4.1          3.21e-08     ***         \n",
      "intercept                                              1            0.0          1.11e-16     ***         \n",
      "==========================================================================================================\n",
      "Significance codes:  0 '***' 0.001 '**' 0.01 '*' 0.05 '.' 0.1 ' ' 1\n",
      "\n",
      "WARNING: Fitting splines and a linear function to a feature introduces a model identifiability problem\n",
      "         which can cause p-values to appear significant when they are not.\n",
      "\n",
      "WARNING: p-values calculated in this manner behave correctly for un-penalized models or models with\n",
      "         known smoothing parameters, but when smoothing parameters have been estimated, the p-values\n",
      "         are typically lower than they should be, meaning that the tests reject the null too readily.\n"
     ]
    },
    {
     "name": "stderr",
     "output_type": "stream",
     "text": [
      "C:\\Users\\user\\Anaconda3\\lib\\site-packages\\ipykernel_launcher.py:7: UserWarning: KNOWN BUG: p-values computed in this summary are likely much smaller than they should be. \n",
      " \n",
      "Please do not make inferences based on these values! \n",
      "\n",
      "Collaborate on a solution, and stay up to date at: \n",
      "github.com/dswah/pyGAM/issues/163 \n",
      "\n",
      "  import sys\n"
     ]
    }
   ],
   "source": [
    "#GAM\n",
    "from pygam import LinearGAM,s,f,l\n",
    "X=final_data[['Particulate_Matter_PM25','Temperature', 'Pressure' , 'Humidity']]\n",
    "y=pd.Series(final_data['Value'])\n",
    "gammodel1 = LinearGAM(s(0) + s(1)+s(2)+s(3)).fit(X, y)\n",
    "gammodel1.gridsearch(X, y)\n",
    "gammodel1.summary()"
   ]
  },
  {
   "cell_type": "markdown",
   "metadata": {},
   "source": [
    "### Locating the maximum value for GCV:"
   ]
  },
  {
   "cell_type": "code",
   "execution_count": 59,
   "metadata": {},
   "outputs": [
    {
     "name": "stdout",
     "output_type": "stream",
     "text": [
      "LinearGAM                                                                                                 \n",
      "=============================================== ==========================================================\n",
      "Distribution:                        NormalDist Effective DoF:                                    220.8341\n",
      "Link Function:                     IdentityLink Log Likelihood:                                 -2165.1586\n",
      "Number of Samples:                          652 AIC:                                             4773.9856\n",
      "                                                AICc:                                            5004.3497\n",
      "                                                GCV:                                               25.6113\n",
      "                                                Scale:                                             10.7079\n",
      "                                                Pseudo R-Squared:                                   0.7173\n",
      "==========================================================================================================\n",
      "Feature Function                  Lambda               Rank         EDoF         P > x        Sig. Code   \n",
      "================================= ==================== ============ ============ ============ ============\n",
      "s(0)                              [0.6]                200                       1.11e-16     ***         \n",
      "s(1)                              [0.6]                200                       1.11e-16     ***         \n",
      "s(2)                              [0.6]                200                       1.11e-16     ***         \n",
      "s(3)                              [0.6]                200                       1.14e-10     ***         \n",
      "intercept                                              1                         1.11e-16     ***         \n",
      "==========================================================================================================\n",
      "Significance codes:  0 '***' 0.001 '**' 0.01 '*' 0.05 '.' 0.1 ' ' 1\n",
      "\n",
      "WARNING: Fitting splines and a linear function to a feature introduces a model identifiability problem\n",
      "         which can cause p-values to appear significant when they are not.\n",
      "\n",
      "WARNING: p-values calculated in this manner behave correctly for un-penalized models or models with\n",
      "         known smoothing parameters, but when smoothing parameters have been estimated, the p-values\n",
      "         are typically lower than they should be, meaning that the tests reject the null too readily.\n"
     ]
    },
    {
     "name": "stderr",
     "output_type": "stream",
     "text": [
      "C:\\Users\\user\\Anaconda3\\lib\\site-packages\\ipykernel_launcher.py:5: UserWarning: KNOWN BUG: p-values computed in this summary are likely much smaller than they should be. \n",
      " \n",
      "Please do not make inferences based on these values! \n",
      "\n",
      "Collaborate on a solution, and stay up to date at: \n",
      "github.com/dswah/pyGAM/issues/163 \n",
      "\n",
      "  \"\"\"\n"
     ]
    }
   ],
   "source": [
    "from pygam import LinearGAM,s,f,l\n",
    "X=final_data[['Particulate_Matter_PM25','Temperature', 'Pressure' , 'Humidity']]\n",
    "y=pd.Series(final_data['Value'])\n",
    "gamcv = LinearGAM(n_splines=200).fit(X, y)\n",
    "gamcv.summary()"
   ]
  },
  {
   "cell_type": "markdown",
   "metadata": {},
   "source": [
    "### The final model with GCV=25:"
   ]
  },
  {
   "cell_type": "code",
   "execution_count": 60,
   "metadata": {},
   "outputs": [
    {
     "name": "stdout",
     "output_type": "stream",
     "text": [
      "LinearGAM                                                                                                 \n",
      "=============================================== ==========================================================\n",
      "Distribution:                        NormalDist Effective DoF:                                     57.7828\n",
      "Link Function:                     IdentityLink Log Likelihood:                                 -1990.4586\n",
      "Number of Samples:                          652 AIC:                                              4098.483\n",
      "                                                AICc:                                            4110.3509\n",
      "                                                GCV:                                                9.4778\n",
      "                                                Scale:                                              7.9789\n",
      "                                                Pseudo R-Squared:                                   0.7096\n",
      "==========================================================================================================\n",
      "Feature Function                  Lambda               Rank         EDoF         P > x        Sig. Code   \n",
      "================================= ==================== ============ ============ ============ ============\n",
      "s(0)                              [0.6]                25           15.3         1.11e-16     ***         \n",
      "s(1)                              [0.6]                25           15.1         4.73e-13     ***         \n",
      "s(2)                              [0.6]                25           13.5         4.68e-07     ***         \n",
      "s(3)                              [0.6]                25           14.0         7.66e-07     ***         \n",
      "intercept                                              1            0.0          1.11e-16     ***         \n",
      "==========================================================================================================\n",
      "Significance codes:  0 '***' 0.001 '**' 0.01 '*' 0.05 '.' 0.1 ' ' 1\n",
      "\n",
      "WARNING: Fitting splines and a linear function to a feature introduces a model identifiability problem\n",
      "         which can cause p-values to appear significant when they are not.\n",
      "\n",
      "WARNING: p-values calculated in this manner behave correctly for un-penalized models or models with\n",
      "         known smoothing parameters, but when smoothing parameters have been estimated, the p-values\n",
      "         are typically lower than they should be, meaning that the tests reject the null too readily.\n"
     ]
    },
    {
     "name": "stderr",
     "output_type": "stream",
     "text": [
      "C:\\Users\\user\\Anaconda3\\lib\\site-packages\\ipykernel_launcher.py:5: UserWarning: KNOWN BUG: p-values computed in this summary are likely much smaller than they should be. \n",
      " \n",
      "Please do not make inferences based on these values! \n",
      "\n",
      "Collaborate on a solution, and stay up to date at: \n",
      "github.com/dswah/pyGAM/issues/163 \n",
      "\n",
      "  \"\"\"\n"
     ]
    }
   ],
   "source": [
    "from pygam import LinearGAM,s,f,l\n",
    "X=final_data[['Particulate_Matter_PM25','Temperature', 'Pressure' , 'Humidity']]\n",
    "y=pd.Series(final_data['Value'])\n",
    "gamcv2 = LinearGAM(n_splines=25).fit(X, y)\n",
    "gamcv2.summary()"
   ]
  },
  {
   "cell_type": "markdown",
   "metadata": {},
   "source": [
    "### Final dependence model:"
   ]
  },
  {
   "cell_type": "code",
   "execution_count": 61,
   "metadata": {},
   "outputs": [
    {
     "data": {
      "text/plain": [
       "<Figure size 432x288 with 0 Axes>"
      ]
     },
     "metadata": {},
     "output_type": "display_data"
    },
    {
     "data": {
      "image/png": "[encoded data removed]",
      "text/plain": [
       "<Figure size 432x288 with 4 Axes>"
      ]
     },
     "metadata": {
      "needs_background": "light"
     },
     "output_type": "display_data"
    }
   ],
   "source": [
    "import matplotlib.pyplot as plt\n",
    "plt.figure();\n",
    "fig, axs = plt.subplots(1,4);\n",
    "\n",
    "titles = ['PM25','Temperature', 'Pressure', 'Humidity']\n",
    "for i, ax in enumerate(axs):\n",
    "    XX = gammodel1.generate_X_grid(term=i)\n",
    "    ax.plot(XX[:, i], gamcv2.partial_dependence(term=i, X=XX))\n",
    "    ax.plot(XX[:, i], gamcv2.partial_dependence(term=i, X=XX, width=.95)[1], c='r', ls='--')\n",
    "    if i == 0:\n",
    "        ax.set_ylim(-100,100)\n",
    "    ax.set_title(titles[i]);"
   ]
  },
  {
   "cell_type": "markdown",
   "metadata": {},
   "source": [
    "## Predict Function for GAM:"
   ]
  },
  {
   "cell_type": "code",
   "execution_count": 62,
   "metadata": {},
   "outputs": [],
   "source": [
    "#gam predict \n",
    "x_test=final_data[['Particulate_Matter_PM25','Temperature','Pressure','Humidity']]\n",
    "predvalues=gamcv2.predict(x_test)"
   ]
  },
  {
   "cell_type": "code",
   "execution_count": 63,
   "metadata": {},
   "outputs": [
    {
     "data": {
      "text/plain": [
       "array([ 1.51937926,  5.46534563,  4.30031577,  4.28239761,  2.51832587,\n",
       "        1.11177895,  1.1171754 ,  1.20719746,  1.25896348,  1.34671833,\n",
       "        1.92374125,  2.89930239,  3.11416737,  3.06017059,  3.04945636,\n",
       "        2.35877293,  2.4044663 ,  2.30578516,  2.11258799,  2.40654392,\n",
       "        2.78685317,  3.36191984,  3.27491552,  2.96034237,  2.87537141,\n",
       "        3.70961186,  2.69100216,  3.61499162,  4.05406454,  4.07001837,\n",
       "        4.02368399,  3.92824095,  3.35224847,  5.2960408 ,  5.54296737,\n",
       "        5.35695534,  5.10397351,  5.66891639,  5.34603642,  7.35338547,\n",
       "        7.37564973,  5.84752686,  6.02559873,  5.63530428,  6.29581149,\n",
       "        5.78639885,  8.0705142 ,  8.95776217,  7.99384381,  4.10416363,\n",
       "        3.91810435,  3.95155664,  5.34365817,  5.62986515,  5.52465039,\n",
       "        5.56317999,  6.72567467,  6.75634028,  7.70334448,  7.83018751,\n",
       "        8.31398567,  8.81164812,  9.07378478, 10.18763597,  9.47766147,\n",
       "       10.15435708,  9.84894794,  9.60710506,  7.12448837,  6.39751541,\n",
       "        4.520405  ,  4.40356904,  3.09430119,  2.96804162,  3.1840848 ,\n",
       "        2.80092906,  2.18637745,  2.3683526 ,  2.28373688,  2.39281587,\n",
       "        2.33161906,  2.61093042,  3.73256219,  4.36437517,  3.99181337,\n",
       "        5.66820085,  9.27058095, 15.43195104, 11.22093861,  8.25434823,\n",
       "        7.8973286 ,  8.07556279,  9.84696219,  9.01770368,  7.92803654,\n",
       "        6.39037873,  6.43029715,  6.24358593,  5.96206845,  5.93276002,\n",
       "        5.7213117 ,  6.10970335,  7.29919854,  8.52298273,  9.15698552,\n",
       "        9.31176728,  8.85642984,  9.5416041 ,  9.48273701,  9.04024487,\n",
       "        8.9416719 ,  9.20132036,  9.56754255,  9.31503861,  8.37255026,\n",
       "        7.62214157,  9.21373134, 10.20279749,  9.69325382,  8.58243948,\n",
       "        8.53204647,  7.19808266,  4.91443772,  3.62525831,  1.3541919 ,\n",
       "        1.40901573,  1.87900086,  4.2518801 ,  5.31766995,  2.68249802,\n",
       "        3.10874524,  4.67627837,  6.29157884,  5.63839195,  2.63958859,\n",
       "        0.58072498,  0.77924805,  1.34132535,  5.45733108,  4.54540994,\n",
       "        3.84509686,  3.06496943,  3.55120148,  2.6714698 ,  2.71076497,\n",
       "        2.89153025,  3.4000441 ,  4.03215404,  6.86299464,  6.39859649,\n",
       "        7.79579685,  7.76971084,  7.68032695,  7.56719511,  8.1114258 ,\n",
       "        8.13951152,  7.71088342,  7.63248608,  7.56664096,  7.43524729,\n",
       "        8.20575439, 11.63453921, 11.93671191, 12.9207387 ,  6.54738906,\n",
       "        5.44244079,  6.18558413,  5.29966673,  4.93288446,  4.26577255,\n",
       "        4.7514832 ,  7.91421441,  7.25906099,  7.47831046,  9.05826224,\n",
       "        8.96145217,  9.77571426,  9.2298549 ,  8.51994524,  9.25938101,\n",
       "        9.16176697,  9.74371654,  9.53697722,  9.08834642, 10.1290601 ,\n",
       "       11.54941333, 14.8428517 , 15.14721781, 13.38646331, 12.19834083,\n",
       "       10.17169213,  7.34180054,  7.8047125 ,  8.07322876,  8.45692708,\n",
       "        8.19214435, 10.51411316, 10.49078454, 10.24041897, 10.48066024,\n",
       "       10.12786361, 10.63211133, 11.47587017, 10.69609116, 10.23674248,\n",
       "       10.88548936, 11.69771438, 11.23757744, 11.15378353, 13.50440877,\n",
       "       13.99793418, 10.41445035,  9.52919647,  9.52063132,  8.95303167,\n",
       "        8.68151898,  9.16969499, 10.45828168, 10.05101162, 10.10488115,\n",
       "       10.76124927, 10.41495673, 10.70017139, 11.51666461, 11.34340084,\n",
       "       10.87997055, 10.03182934,  9.28762662,  7.87932655,  7.87508559,\n",
       "        6.32877353,  3.99945436,  3.40866008,  2.60887175,  2.54597693,\n",
       "        2.31961767,  4.66677319,  5.16491909,  5.42476806,  5.53652739,\n",
       "        6.21870612,  6.47171237,  6.869011  ,  6.11964588,  7.52508567,\n",
       "        7.54364816,  5.74274082,  6.04040119,  6.63845061,  9.92671515,\n",
       "       11.4658014 , 12.3333483 ,  9.86969009,  8.71758989, 10.8976484 ,\n",
       "       13.01966961, 12.82105992, 12.02467169, 11.86498478, 12.08788499,\n",
       "       13.26714628, 13.13295428, 13.74455822, 16.34477625, 18.25523378,\n",
       "       15.47044967, 14.98555535, 16.95444577, 18.28084586, 22.57076913,\n",
       "       24.0604901 , 19.74504889, 15.98058565, 12.95542888, 12.43582595,\n",
       "       12.13017899,  9.91650709, 10.66732641, 11.83941985, 13.40923354,\n",
       "       13.56674763, 15.21177479, 15.79640171, 15.22731204, 14.46368599,\n",
       "       15.69218673, 17.99053158, 19.18413948, 18.9884519 , 18.65192967,\n",
       "       18.70567685, 21.70257928, 22.77103132, 19.73009246, 15.49034604,\n",
       "       13.88326985, 11.12162158, 10.37869975,  9.55951338, 10.03197295,\n",
       "        9.59714225,  8.38804164,  4.6026611 ,  5.02496352,  4.40720474,\n",
       "        4.01316824,  3.5641199 ,  3.33623075,  1.93290622,  0.90131118,\n",
       "        1.14850626,  0.93800286,  0.16835562, -0.10559246, -0.60458129,\n",
       "        0.45247869,  2.15128673,  3.73301251,  4.00164048,  3.82565386,\n",
       "        4.78343281,  4.27629809,  3.35477442,  3.66948617,  4.28971593,\n",
       "        4.66064604,  6.40199915,  5.34630977,  4.08450916,  2.44585792,\n",
       "        2.00863988,  2.00767028,  1.86846605,  2.04478958,  2.89765468,\n",
       "        5.49702176,  6.09832738,  4.9343137 ,  3.34354434,  3.15606539,\n",
       "        2.69986701,  2.04754485,  2.45480232,  2.6563466 ,  3.15204906,\n",
       "        4.15087756,  4.75444291,  4.43340834,  4.28438284,  6.14114672,\n",
       "        5.64805496,  5.99624393,  6.25506767,  6.05786096,  6.03130336,\n",
       "        5.97570717,  6.68978495,  7.54013245,  6.5069898 ,  6.02822314,\n",
       "        5.60580496,  4.22272455,  3.69099938,  3.44044657,  3.31003991,\n",
       "        2.88343135,  2.65622645,  2.91691914,  3.76671063,  4.62052113,\n",
       "        4.69122421,  4.76397699,  4.73759898,  4.09272256,  3.57001511,\n",
       "        3.56703182,  3.96699564,  4.82600704,  4.36812566,  3.85425223,\n",
       "        3.20157505,  3.08961946,  3.71202556,  4.17426653,  4.64452204,\n",
       "        5.48313405,  5.71681364,  6.61734916,  7.94976896,  5.94863969,\n",
       "        3.30961382,  2.03205258,  2.11546997,  2.22094659,  3.20021251,\n",
       "        3.43563163,  3.30133343,  3.34122763,  3.62980878,  3.68519197,\n",
       "        4.44023031,  5.48213771,  5.05711008,  4.45604245,  2.85995385,\n",
       "        4.8573508 ,  6.81719395,  6.64888482,  8.04259325,  8.18004063,\n",
       "        9.30486601,  9.9703871 ,  9.5567137 ,  7.99285311,  6.87857276,\n",
       "        5.75516325,  5.95156565,  6.13731179,  6.12169898,  8.29759754,\n",
       "        8.55690418,  7.76436138,  7.05419404,  6.12277742,  5.16626122,\n",
       "        7.03972634,  4.33132912,  4.47173784,  6.96077883,  8.47029803,\n",
       "        8.52815918,  8.91678622,  8.65576727,  9.51402982,  8.80297095,\n",
       "        9.38306385,  9.75267195, 10.35583794, 10.84042398, 10.26989625,\n",
       "       10.42548252, 11.54571626, 11.96435819, 13.03531335, 10.32524839,\n",
       "       10.74665217,  9.58988661,  8.67855098,  8.54768029,  7.57126457,\n",
       "        7.5328821 ,  8.75371442,  7.95806826,  7.49779045,  7.14977799,\n",
       "        8.02493549,  7.95806109,  8.05265003,  9.60031022, 11.39854353,\n",
       "        9.73521553, 10.0132854 , 12.71220713, 11.7420614 , 11.53783524,\n",
       "       11.42770739, 12.5563566 , 16.38013492, 16.90329575, 19.99374826,\n",
       "       17.82851262, 20.02941871, 18.43668929, 16.14751578, 14.27246075,\n",
       "       12.69455029, 11.0851834 , 13.30966053, 14.49974551, 18.80878297,\n",
       "       18.54575938, 19.92484075, 18.43471368, 14.52883329, 13.98001029,\n",
       "       13.72848496, 13.52340554, 16.51589943, 16.61474046,  9.21659026,\n",
       "        3.88633729,  3.26763395,  4.12254815,  4.37958284,  4.61195287,\n",
       "        4.96643802,  4.7971846 ,  3.91498441,  3.09450855,  4.32707768,\n",
       "        4.77741062,  5.35883817,  7.14375456,  6.92451041,  5.79607225,\n",
       "        5.48184384,  4.15129589,  3.1408929 ,  2.59207568,  2.53898914,\n",
       "        2.61621539,  3.60407384,  4.44387766,  5.29487505,  8.81235432,\n",
       "        7.81302893,  7.38022567,  6.07509672,  4.9438197 ,  4.50179246,\n",
       "        4.85845101,  3.84887126,  3.73905303,  4.68297966,  7.54884433,\n",
       "        7.91815613,  5.66796833,  5.385714  ,  5.14878217,  4.87194663,\n",
       "        5.2985235 ,  5.28866697,  5.233374  ,  5.36120004,  5.43698424,\n",
       "        7.68068769,  9.87046065, 10.08431203,  9.80661971,  8.54861709,\n",
       "        6.37645501,  6.15401169,  6.54470128,  6.55470614,  6.35252749,\n",
       "        6.2217381 ,  7.43936871,  8.12187177,  6.64229958,  5.8382521 ,\n",
       "        5.2734277 ,  5.36610398,  8.87619311,  8.87121057,  9.12481461,\n",
       "       10.03980392, 10.89430179, 10.60853436, 10.53966278,  9.28125902,\n",
       "        8.21859245,  8.04161873,  5.22187688,  4.61655582,  4.78147975,\n",
       "        5.13169426,  5.78795649,  5.38155433,  5.15131003,  5.34478416,\n",
       "        6.48238662,  8.58530669, 11.95277739, 14.48969342, 14.01548119,\n",
       "       13.80397049, 11.62847734, 10.52174583,  8.4077076 ,  5.63802222,\n",
       "        5.10629567,  4.50051565,  2.6836965 ,  3.67680553,  4.3622734 ,\n",
       "        4.17649335,  4.01420022,  2.87221542,  0.56565362,  1.062354  ,\n",
       "        1.62556866,  2.19829444,  1.95106995,  2.37567143,  4.54728077,\n",
       "        2.59760788,  4.14015621,  4.59095639,  5.7772168 ,  5.74806559,\n",
       "        4.6110707 ,  4.6209129 ,  2.05329705,  2.94546741,  2.37296811,\n",
       "        2.93944466,  3.07713152,  2.87767163,  3.3247959 ,  2.94060368,\n",
       "        3.86724644,  4.42418617,  5.50439646,  4.48564758,  2.79223129,\n",
       "        2.01140071,  2.60567108,  3.20100595,  4.31990119,  2.58572135,\n",
       "        1.6069349 ,  1.44681805,  4.16545377,  8.02453252,  6.36597597,\n",
       "        7.93286423,  7.09880887,  8.32244557,  9.28325725, 10.91419342,\n",
       "       12.34595459, 12.65098055, 12.36059842, 12.36121515, 11.32712084,\n",
       "       11.47035753, 10.15341361,  7.79434177,  5.99764961,  5.53449908,\n",
       "        5.72542129,  8.03316042,  9.49060446,  7.90053331,  6.61685698,\n",
       "        6.35696321,  7.68996441,  8.17695265,  8.30788387,  8.80228928,\n",
       "        8.01291898,  7.8329732 ])"
      ]
     },
     "execution_count": 63,
     "metadata": {},
     "output_type": "execute_result"
    }
   ],
   "source": [
    "predvalues"
   ]
  },
  {
   "cell_type": "markdown",
   "metadata": {},
   "source": [
    "## Plotting OBS vs PRED for GAM:"
   ]
  },
  {
   "cell_type": "code",
   "execution_count": 64,
   "metadata": {},
   "outputs": [
    {
     "data": {
      "image/png": "[encoded data removed]",
      "text/plain": [
       "<Figure size 432x288 with 1 Axes>"
      ]
     },
     "metadata": {
      "needs_background": "light"
     },
     "output_type": "display_data"
    }
   ],
   "source": [
    "import matplotlib.pyplot as plt\n",
    "plt.plot(predvalues,label='Predicted')\n",
    "plt.plot(final_data['Value'],label='Observed')\n",
    "plt.legend()\n",
    "plt.show()"
   ]
  },
  {
   "cell_type": "markdown",
   "metadata": {},
   "source": [
    "## Plotting OBS vs PRED for GLM:"
   ]
  },
  {
   "cell_type": "code",
   "execution_count": 65,
   "metadata": {},
   "outputs": [
    {
     "data": {
      "image/png": "[encoded data removed]",
      "text/plain": [
       "<Figure size 432x288 with 1 Axes>"
      ]
     },
     "metadata": {
      "needs_background": "light"
     },
     "output_type": "display_data"
    }
   ],
   "source": [
    "#https://docs.pymc.io/notebooks/GLM-robust.html\n",
    "predictions = res.predict()\n",
    "plt.plot(predictions,label='Predicted')\n",
    "plt.plot(final_data['Value'],label='Observed')\n",
    "plt.legend()\n",
    "plt.show()"
   ]
  },
  {
   "cell_type": "markdown",
   "metadata": {},
   "source": [
    "## Plotting OBS vs PRED for GAM:"
   ]
  },
  {
   "cell_type": "code",
   "execution_count": 66,
   "metadata": {},
   "outputs": [
    {
     "data": {
      "image/png": "[encoded data removed]",
      "text/plain": [
       "<Figure size 432x288 with 1 Axes>"
      ]
     },
     "metadata": {
      "needs_background": "light"
     },
     "output_type": "display_data"
    }
   ],
   "source": [
    "#https://docs.pymc.io/notebooks/GLM-robust.html\n",
    "X_columns= ['Value']\n",
    "X = final_data[X_columns]\n",
    "predictions = res.predict()\n",
    "plt.scatter( final_data['Value'],predictions, alpha=0.8)\n",
    "plt.plot(X,X,'k-')\n",
    "plt.xlabel('Observed')\n",
    "plt.ylabel('Predicted')\n",
    "plt.show()"
   ]
  },
  {
   "cell_type": "markdown",
   "metadata": {},
   "source": [
    "## Plotting OBS vs PRED for GLM:"
   ]
  },
  {
   "cell_type": "code",
   "execution_count": 67,
   "metadata": {},
   "outputs": [
    {
     "data": {
      "image/png": "[encoded data removed]",
      "text/plain": [
       "<Figure size 432x288 with 1 Axes>"
      ]
     },
     "metadata": {
      "needs_background": "light"
     },
     "output_type": "display_data"
    }
   ],
   "source": [
    "X_columns= ['Value']\n",
    "X = final_data[X_columns]\n",
    "plt.scatter(final_data['Value'],predvalues)\n",
    "plt.plot(X,X,'k-')\n",
    "plt.xlabel('Observed')\n",
    "plt.ylabel('Predicted')\n",
    "plt.show()"
   ]
  },
  {
   "cell_type": "code",
   "execution_count": null,
   "metadata": {},
   "outputs": [],
   "source": []
  }
 ],
 "metadata": {
  "kernelspec": {
   "display_name": "Python 3",
   "language": "python",
   "name": "python3"
  },
  "language_info": {
   "codemirror_mode": {
    "name": "ipython",
    "version": 3
   },
   "file_extension": ".py",
   "mimetype": "text/x-python",
   "name": "python",
   "nbconvert_exporter": "python",
   "pygments_lexer": "ipython3",
   "version": "3.7.1"
  }
 },
 "nbformat": 4,
 "nbformat_minor": 2
}
